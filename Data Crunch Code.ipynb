{
 "cells": [
  {
   "cell_type": "code",
   "execution_count": 1,
   "metadata": {},
   "outputs": [],
   "source": [
    "import pandas as pd\n",
    "import numpy as np\n",
    "import matplotlib.pyplot as plt\n",
    "%matplotlib inline\n",
    "import seaborn as sns"
   ]
  },
  {
   "cell_type": "code",
   "execution_count": 2,
   "metadata": {},
   "outputs": [
    {
     "data": {
      "text/html": [
       "<div>\n",
       "<style scoped>\n",
       "    .dataframe tbody tr th:only-of-type {\n",
       "        vertical-align: middle;\n",
       "    }\n",
       "\n",
       "    .dataframe tbody tr th {\n",
       "        vertical-align: top;\n",
       "    }\n",
       "\n",
       "    .dataframe thead th {\n",
       "        text-align: right;\n",
       "    }\n",
       "</style>\n",
       "<table border=\"1\" class=\"dataframe\">\n",
       "  <thead>\n",
       "    <tr style=\"text-align: right;\">\n",
       "      <th></th>\n",
       "      <th>Loan.ID</th>\n",
       "      <th>Current.Loan.Amount</th>\n",
       "      <th>Term</th>\n",
       "      <th>Credit.Score</th>\n",
       "      <th>Years.in.current.job</th>\n",
       "      <th>Home.Ownership</th>\n",
       "      <th>Annual.Income</th>\n",
       "      <th>Purpose</th>\n",
       "      <th>Monthly.Debt</th>\n",
       "      <th>Years.of.Credit.History</th>\n",
       "      <th>Months.since.last.delinquent</th>\n",
       "      <th>Number.of.Open.Accounts</th>\n",
       "      <th>Number.of.Credit.Problems</th>\n",
       "      <th>Current.Credit.Balance</th>\n",
       "      <th>Maximum.Open.Credit</th>\n",
       "      <th>Bankruptcies</th>\n",
       "      <th>Tax.Liens</th>\n",
       "      <th>Loan.Status</th>\n",
       "    </tr>\n",
       "  </thead>\n",
       "  <tbody>\n",
       "    <tr>\n",
       "      <td>0</td>\n",
       "      <td>0</td>\n",
       "      <td>17879</td>\n",
       "      <td>Short Term</td>\n",
       "      <td>739.0</td>\n",
       "      <td>6 years</td>\n",
       "      <td>Home Mortgage</td>\n",
       "      <td>95357.0</td>\n",
       "      <td>Debt Consolidation</td>\n",
       "      <td>1509.82</td>\n",
       "      <td>34.4</td>\n",
       "      <td>5.0</td>\n",
       "      <td>26</td>\n",
       "      <td>0</td>\n",
       "      <td>23986</td>\n",
       "      <td>40313</td>\n",
       "      <td>0.0</td>\n",
       "      <td>0.0</td>\n",
       "      <td>1</td>\n",
       "    </tr>\n",
       "    <tr>\n",
       "      <td>1</td>\n",
       "      <td>1</td>\n",
       "      <td>99999999</td>\n",
       "      <td>Long Term</td>\n",
       "      <td>619.0</td>\n",
       "      <td>6 years</td>\n",
       "      <td>Rent</td>\n",
       "      <td>54406.0</td>\n",
       "      <td>Debt Consolidation</td>\n",
       "      <td>1065.45</td>\n",
       "      <td>12.7</td>\n",
       "      <td>NaN</td>\n",
       "      <td>8</td>\n",
       "      <td>0</td>\n",
       "      <td>22938</td>\n",
       "      <td>31250</td>\n",
       "      <td>0.0</td>\n",
       "      <td>0.0</td>\n",
       "      <td>1</td>\n",
       "    </tr>\n",
       "    <tr>\n",
       "      <td>2</td>\n",
       "      <td>3</td>\n",
       "      <td>99999999</td>\n",
       "      <td>Short Term</td>\n",
       "      <td>738.0</td>\n",
       "      <td>less than  1 year</td>\n",
       "      <td>Rent</td>\n",
       "      <td>40480.0</td>\n",
       "      <td>Medical Bills</td>\n",
       "      <td>573.47</td>\n",
       "      <td>32.7</td>\n",
       "      <td>60.0</td>\n",
       "      <td>9</td>\n",
       "      <td>1</td>\n",
       "      <td>3963</td>\n",
       "      <td>5669</td>\n",
       "      <td>1.0</td>\n",
       "      <td>0.0</td>\n",
       "      <td>1</td>\n",
       "    </tr>\n",
       "    <tr>\n",
       "      <td>3</td>\n",
       "      <td>4</td>\n",
       "      <td>11200</td>\n",
       "      <td>Short Term</td>\n",
       "      <td>738.0</td>\n",
       "      <td>4 years</td>\n",
       "      <td>Rent</td>\n",
       "      <td>53965.0</td>\n",
       "      <td>Debt Consolidation</td>\n",
       "      <td>1358.11</td>\n",
       "      <td>15.8</td>\n",
       "      <td>NaN</td>\n",
       "      <td>8</td>\n",
       "      <td>1</td>\n",
       "      <td>11782</td>\n",
       "      <td>25951</td>\n",
       "      <td>1.0</td>\n",
       "      <td>0.0</td>\n",
       "      <td>1</td>\n",
       "    </tr>\n",
       "    <tr>\n",
       "      <td>4</td>\n",
       "      <td>5</td>\n",
       "      <td>3608</td>\n",
       "      <td>Short Term</td>\n",
       "      <td>731.0</td>\n",
       "      <td>10+ years</td>\n",
       "      <td>Home Mortgage</td>\n",
       "      <td>47709.0</td>\n",
       "      <td>Home Improvements</td>\n",
       "      <td>339.93</td>\n",
       "      <td>16.1</td>\n",
       "      <td>47.0</td>\n",
       "      <td>6</td>\n",
       "      <td>0</td>\n",
       "      <td>22909</td>\n",
       "      <td>25568</td>\n",
       "      <td>0.0</td>\n",
       "      <td>0.0</td>\n",
       "      <td>1</td>\n",
       "    </tr>\n",
       "    <tr>\n",
       "      <td>5</td>\n",
       "      <td>7</td>\n",
       "      <td>7877</td>\n",
       "      <td>Short Term</td>\n",
       "      <td>738.0</td>\n",
       "      <td>5 years</td>\n",
       "      <td>Home Mortgage</td>\n",
       "      <td>47707.0</td>\n",
       "      <td>Home Improvements</td>\n",
       "      <td>504.90</td>\n",
       "      <td>14.5</td>\n",
       "      <td>70.0</td>\n",
       "      <td>10</td>\n",
       "      <td>1</td>\n",
       "      <td>1837</td>\n",
       "      <td>6269</td>\n",
       "      <td>1.0</td>\n",
       "      <td>0.0</td>\n",
       "      <td>1</td>\n",
       "    </tr>\n",
       "    <tr>\n",
       "      <td>6</td>\n",
       "      <td>8</td>\n",
       "      <td>4732</td>\n",
       "      <td>Long Term</td>\n",
       "      <td>701.0</td>\n",
       "      <td>10+ years</td>\n",
       "      <td>Rent</td>\n",
       "      <td>62721.0</td>\n",
       "      <td>other</td>\n",
       "      <td>296.87</td>\n",
       "      <td>20.2</td>\n",
       "      <td>51.0</td>\n",
       "      <td>2</td>\n",
       "      <td>0</td>\n",
       "      <td>0</td>\n",
       "      <td>0</td>\n",
       "      <td>0.0</td>\n",
       "      <td>0.0</td>\n",
       "      <td>0</td>\n",
       "    </tr>\n",
       "    <tr>\n",
       "      <td>7</td>\n",
       "      <td>10</td>\n",
       "      <td>3469</td>\n",
       "      <td>Short Term</td>\n",
       "      <td>735.0</td>\n",
       "      <td>5 years</td>\n",
       "      <td>Rent</td>\n",
       "      <td>25135.0</td>\n",
       "      <td>Debt Consolidation</td>\n",
       "      <td>354.83</td>\n",
       "      <td>9.1</td>\n",
       "      <td>NaN</td>\n",
       "      <td>7</td>\n",
       "      <td>0</td>\n",
       "      <td>3646</td>\n",
       "      <td>6840</td>\n",
       "      <td>0.0</td>\n",
       "      <td>0.0</td>\n",
       "      <td>0</td>\n",
       "    </tr>\n",
       "  </tbody>\n",
       "</table>\n",
       "</div>"
      ],
      "text/plain": [
       "   Loan.ID  Current.Loan.Amount        Term  Credit.Score  \\\n",
       "0        0                17879  Short Term         739.0   \n",
       "1        1             99999999   Long Term         619.0   \n",
       "2        3             99999999  Short Term         738.0   \n",
       "3        4                11200  Short Term         738.0   \n",
       "4        5                 3608  Short Term         731.0   \n",
       "5        7                 7877  Short Term         738.0   \n",
       "6        8                 4732   Long Term         701.0   \n",
       "7       10                 3469  Short Term         735.0   \n",
       "\n",
       "  Years.in.current.job Home.Ownership  Annual.Income             Purpose  \\\n",
       "0              6 years  Home Mortgage        95357.0  Debt Consolidation   \n",
       "1              6 years           Rent        54406.0  Debt Consolidation   \n",
       "2    less than  1 year           Rent        40480.0       Medical Bills   \n",
       "3              4 years           Rent        53965.0  Debt Consolidation   \n",
       "4            10+ years  Home Mortgage        47709.0   Home Improvements   \n",
       "5              5 years  Home Mortgage        47707.0   Home Improvements   \n",
       "6            10+ years           Rent        62721.0               other   \n",
       "7              5 years           Rent        25135.0  Debt Consolidation   \n",
       "\n",
       "   Monthly.Debt  Years.of.Credit.History  Months.since.last.delinquent  \\\n",
       "0       1509.82                     34.4                           5.0   \n",
       "1       1065.45                     12.7                           NaN   \n",
       "2        573.47                     32.7                          60.0   \n",
       "3       1358.11                     15.8                           NaN   \n",
       "4        339.93                     16.1                          47.0   \n",
       "5        504.90                     14.5                          70.0   \n",
       "6        296.87                     20.2                          51.0   \n",
       "7        354.83                      9.1                           NaN   \n",
       "\n",
       "   Number.of.Open.Accounts  Number.of.Credit.Problems  Current.Credit.Balance  \\\n",
       "0                       26                          0                   23986   \n",
       "1                        8                          0                   22938   \n",
       "2                        9                          1                    3963   \n",
       "3                        8                          1                   11782   \n",
       "4                        6                          0                   22909   \n",
       "5                       10                          1                    1837   \n",
       "6                        2                          0                       0   \n",
       "7                        7                          0                    3646   \n",
       "\n",
       "   Maximum.Open.Credit  Bankruptcies  Tax.Liens  Loan.Status  \n",
       "0                40313           0.0        0.0            1  \n",
       "1                31250           0.0        0.0            1  \n",
       "2                 5669           1.0        0.0            1  \n",
       "3                25951           1.0        0.0            1  \n",
       "4                25568           0.0        0.0            1  \n",
       "5                 6269           1.0        0.0            1  \n",
       "6                    0           0.0        0.0            0  \n",
       "7                 6840           0.0        0.0            0  "
      ]
     },
     "execution_count": 2,
     "metadata": {},
     "output_type": "execute_result"
    }
   ],
   "source": [
    "train = pd.read_csv(\"C:/Users/Welcome/Downloads/data crunch/train.csv\")\n",
    "train.head(8)"
   ]
  },
  {
   "cell_type": "code",
   "execution_count": 3,
   "metadata": {},
   "outputs": [
    {
     "name": "stdout",
     "output_type": "stream",
     "text": [
      "<class 'pandas.core.frame.DataFrame'>\n",
      "RangeIndex: 60804 entries, 0 to 60803\n",
      "Data columns (total 18 columns):\n",
      "Loan.ID                         60804 non-null int64\n",
      "Current.Loan.Amount             60804 non-null int64\n",
      "Term                            60804 non-null object\n",
      "Credit.Score                    48575 non-null float64\n",
      "Years.in.current.job            58275 non-null object\n",
      "Home.Ownership                  60804 non-null object\n",
      "Annual.Income                   48575 non-null float64\n",
      "Purpose                         60804 non-null object\n",
      "Monthly.Debt                    60804 non-null float64\n",
      "Years.of.Credit.History         60804 non-null float64\n",
      "Months.since.last.delinquent    28329 non-null float64\n",
      "Number.of.Open.Accounts         60804 non-null int64\n",
      "Number.of.Credit.Problems       60804 non-null int64\n",
      "Current.Credit.Balance          60804 non-null int64\n",
      "Maximum.Open.Credit             60804 non-null int64\n",
      "Bankruptcies                    60677 non-null float64\n",
      "Tax.Liens                       60802 non-null float64\n",
      "Loan.Status                     60804 non-null int64\n",
      "dtypes: float64(7), int64(7), object(4)\n",
      "memory usage: 8.4+ MB\n"
     ]
    }
   ],
   "source": [
    "train.info()"
   ]
  },
  {
   "cell_type": "code",
   "execution_count": 4,
   "metadata": {},
   "outputs": [
    {
     "name": "stdout",
     "output_type": "stream",
     "text": [
      "<class 'pandas.core.frame.DataFrame'>\n",
      "RangeIndex: 23386 entries, 0 to 23385\n",
      "Data columns (total 18 columns):\n",
      "Loan.ID                         23386 non-null int64\n",
      "Current.Loan.Amount             23386 non-null int64\n",
      "Term                            23386 non-null object\n",
      "Credit.Score                    18585 non-null float64\n",
      "Years.in.current.job            22370 non-null object\n",
      "Home.Ownership                  23386 non-null object\n",
      "Annual.Income                   18585 non-null float64\n",
      "Purpose                         23386 non-null object\n",
      "Monthly.Debt                    23386 non-null float64\n",
      "Years.of.Credit.History         23386 non-null float64\n",
      "Months.since.last.delinquent    10858 non-null float64\n",
      "Number.of.Open.Accounts         23386 non-null int64\n",
      "Number.of.Credit.Problems       23386 non-null int64\n",
      "Current.Credit.Balance          23386 non-null int64\n",
      "Maximum.Open.Credit             23386 non-null int64\n",
      "Bankruptcies                    23332 non-null float64\n",
      "Tax.Liens                       23378 non-null float64\n",
      "Loan.Status                     0 non-null float64\n",
      "dtypes: float64(8), int64(6), object(4)\n",
      "memory usage: 3.2+ MB\n"
     ]
    }
   ],
   "source": [
    "test = pd.read_csv(\"C:/Users/Welcome/Downloads/data crunch/test.csv\")\n",
    "test.head()\n",
    "test.info()"
   ]
  },
  {
   "cell_type": "code",
   "execution_count": 5,
   "metadata": {},
   "outputs": [],
   "source": [
    "test_original=test.copy()"
   ]
  },
  {
   "cell_type": "code",
   "execution_count": 6,
   "metadata": {},
   "outputs": [
    {
     "data": {
      "text/plain": [
       "<matplotlib.axes._subplots.AxesSubplot at 0x1a2d44975c8>"
      ]
     },
     "execution_count": 6,
     "metadata": {},
     "output_type": "execute_result"
    },
    {
     "data": {
      "image/png": "[encoded data removed]",
      "text/plain": [
       "<Figure size 432x288 with 1 Axes>"
      ]
     },
     "metadata": {
      "needs_background": "light"
     },
     "output_type": "display_data"
    }
   ],
   "source": [
    "sns.heatmap(train.isnull(),cbar = False, cmap = 'viridis')"
   ]
  },
  {
   "cell_type": "code",
   "execution_count": 7,
   "metadata": {},
   "outputs": [
    {
     "data": {
      "text/plain": [
       "<matplotlib.axes._subplots.AxesSubplot at 0x1a2d55a5948>"
      ]
     },
     "execution_count": 7,
     "metadata": {},
     "output_type": "execute_result"
    },
    {
     "data": {
      "image/png": "[encoded data removed]",
      "text/plain": [
       "<Figure size 432x288 with 1 Axes>"
      ]
     },
     "metadata": {
      "needs_background": "light"
     },
     "output_type": "display_data"
    }
   ],
   "source": [
    "sns.heatmap(test.isnull(),cbar = False, cmap = 'viridis')"
   ]
  },
  {
   "cell_type": "code",
   "execution_count": 8,
   "metadata": {},
   "outputs": [
    {
     "data": {
      "text/plain": [
       "<matplotlib.axes._subplots.AxesSubplot at 0x1a2d4fe4cc8>"
      ]
     },
     "execution_count": 8,
     "metadata": {},
     "output_type": "execute_result"
    },
    {
     "data": {
      "image/png": "[encoded data removed]",
      "text/plain": [
       "<Figure size 432x288 with 1 Axes>"
      ]
     },
     "metadata": {},
     "output_type": "display_data"
    }
   ],
   "source": [
    "sns.set_style('whitegrid')\n",
    "sns.countplot(x='Loan.Status',data=train,palette='RdBu_r')"
   ]
  },
  {
   "cell_type": "code",
   "execution_count": 9,
   "metadata": {},
   "outputs": [
    {
     "data": {
      "text/plain": [
       "Loan.ID                             0\n",
       "Current.Loan.Amount                 0\n",
       "Term                                0\n",
       "Credit.Score                    12229\n",
       "Years.in.current.job             2529\n",
       "Home.Ownership                      0\n",
       "Annual.Income                   12229\n",
       "Purpose                             0\n",
       "Monthly.Debt                        0\n",
       "Years.of.Credit.History             0\n",
       "Months.since.last.delinquent    32475\n",
       "Number.of.Open.Accounts             0\n",
       "Number.of.Credit.Problems           0\n",
       "Current.Credit.Balance              0\n",
       "Maximum.Open.Credit                 0\n",
       "Bankruptcies                      127\n",
       "Tax.Liens                           2\n",
       "Loan.Status                         0\n",
       "dtype: int64"
      ]
     },
     "execution_count": 9,
     "metadata": {},
     "output_type": "execute_result"
    }
   ],
   "source": [
    "train.isnull().sum()"
   ]
  },
  {
   "cell_type": "code",
   "execution_count": 10,
   "metadata": {},
   "outputs": [],
   "source": [
    "train.drop('Months.since.last.delinquent',axis=1,inplace=True)"
   ]
  },
  {
   "cell_type": "code",
   "execution_count": 11,
   "metadata": {},
   "outputs": [
    {
     "data": {
      "text/plain": [
       "<matplotlib.axes._subplots.AxesSubplot at 0x1a2d56d4188>"
      ]
     },
     "execution_count": 11,
     "metadata": {},
     "output_type": "execute_result"
    },
    {
     "data": {
      "image/png": "[encoded data removed]",
      "text/plain": [
       "<Figure size 432x288 with 1 Axes>"
      ]
     },
     "metadata": {},
     "output_type": "display_data"
    }
   ],
   "source": [
    "sns.heatmap(train.isnull(),cbar = False, cmap = 'viridis')"
   ]
  },
  {
   "cell_type": "code",
   "execution_count": 12,
   "metadata": {},
   "outputs": [],
   "source": [
    "train['Term'] = train['Term'].map({'Short Term':int('1'), 'Long Term':int('0')})"
   ]
  },
  {
   "cell_type": "code",
   "execution_count": 13,
   "metadata": {},
   "outputs": [
    {
     "data": {
      "text/plain": [
       "1    44184\n",
       "0    16620\n",
       "Name: Term, dtype: int64"
      ]
     },
     "execution_count": 13,
     "metadata": {},
     "output_type": "execute_result"
    }
   ],
   "source": [
    "train['Term'].value_counts()"
   ]
  },
  {
   "cell_type": "code",
   "execution_count": 14,
   "metadata": {},
   "outputs": [
    {
     "data": {
      "text/plain": [
       "10+ years            18810\n",
       "2 years               5539\n",
       "3 years               5048\n",
       "less than  1 year     4996\n",
       "5 years               4150\n",
       "1 year                3901\n",
       "4 years               3754\n",
       "6 years               3532\n",
       "7 years               3313\n",
       "8 years               2831\n",
       "9 years               2401\n",
       "Name: Years.in.current.job, dtype: int64"
      ]
     },
     "execution_count": 14,
     "metadata": {},
     "output_type": "execute_result"
    }
   ],
   "source": [
    "train['Years.in.current.job'].value_counts()"
   ]
  },
  {
   "cell_type": "code",
   "execution_count": 15,
   "metadata": {},
   "outputs": [],
   "source": [
    "train['Years.in.current.job'] = train['Years.in.current.job'].map({'10+ years':int('0'),'1 year':int('1'),'2 years':int('2'),'3 years':int('3'),'4 years':int('4'),'5 years':int('5'),'6 years':int('6'),'7 years':int('7'),'8 years':int('8'),'9 years':int('9'),'less than  1 year':int('10')})"
   ]
  },
  {
   "cell_type": "code",
   "execution_count": 16,
   "metadata": {},
   "outputs": [
    {
     "data": {
      "text/plain": [
       "0.0     18810\n",
       "2.0      5539\n",
       "3.0      5048\n",
       "10.0     4996\n",
       "5.0      4150\n",
       "1.0      3901\n",
       "4.0      3754\n",
       "6.0      3532\n",
       "7.0      3313\n",
       "8.0      2831\n",
       "9.0      2401\n",
       "Name: Years.in.current.job, dtype: int64"
      ]
     },
     "execution_count": 16,
     "metadata": {},
     "output_type": "execute_result"
    }
   ],
   "source": [
    "train['Years.in.current.job'].value_counts()"
   ]
  },
  {
   "cell_type": "code",
   "execution_count": 17,
   "metadata": {},
   "outputs": [
    {
     "data": {
      "text/html": [
       "<div>\n",
       "<style scoped>\n",
       "    .dataframe tbody tr th:only-of-type {\n",
       "        vertical-align: middle;\n",
       "    }\n",
       "\n",
       "    .dataframe tbody tr th {\n",
       "        vertical-align: top;\n",
       "    }\n",
       "\n",
       "    .dataframe thead th {\n",
       "        text-align: right;\n",
       "    }\n",
       "</style>\n",
       "<table border=\"1\" class=\"dataframe\">\n",
       "  <thead>\n",
       "    <tr style=\"text-align: right;\">\n",
       "      <th></th>\n",
       "      <th>Loan.ID</th>\n",
       "      <th>Current.Loan.Amount</th>\n",
       "      <th>Term</th>\n",
       "      <th>Credit.Score</th>\n",
       "      <th>Years.in.current.job</th>\n",
       "      <th>Home.Ownership</th>\n",
       "      <th>Annual.Income</th>\n",
       "      <th>Purpose</th>\n",
       "      <th>Monthly.Debt</th>\n",
       "      <th>Years.of.Credit.History</th>\n",
       "      <th>Number.of.Open.Accounts</th>\n",
       "      <th>Number.of.Credit.Problems</th>\n",
       "      <th>Current.Credit.Balance</th>\n",
       "      <th>Maximum.Open.Credit</th>\n",
       "      <th>Bankruptcies</th>\n",
       "      <th>Tax.Liens</th>\n",
       "      <th>Loan.Status</th>\n",
       "    </tr>\n",
       "  </thead>\n",
       "  <tbody>\n",
       "    <tr>\n",
       "      <td>0</td>\n",
       "      <td>0</td>\n",
       "      <td>17879</td>\n",
       "      <td>1</td>\n",
       "      <td>739.0</td>\n",
       "      <td>6.0</td>\n",
       "      <td>Home Mortgage</td>\n",
       "      <td>95357.0</td>\n",
       "      <td>Debt Consolidation</td>\n",
       "      <td>1509.82</td>\n",
       "      <td>34.4</td>\n",
       "      <td>26</td>\n",
       "      <td>0</td>\n",
       "      <td>23986</td>\n",
       "      <td>40313</td>\n",
       "      <td>0.0</td>\n",
       "      <td>0.0</td>\n",
       "      <td>1</td>\n",
       "    </tr>\n",
       "    <tr>\n",
       "      <td>1</td>\n",
       "      <td>1</td>\n",
       "      <td>99999999</td>\n",
       "      <td>0</td>\n",
       "      <td>619.0</td>\n",
       "      <td>6.0</td>\n",
       "      <td>Rent</td>\n",
       "      <td>54406.0</td>\n",
       "      <td>Debt Consolidation</td>\n",
       "      <td>1065.45</td>\n",
       "      <td>12.7</td>\n",
       "      <td>8</td>\n",
       "      <td>0</td>\n",
       "      <td>22938</td>\n",
       "      <td>31250</td>\n",
       "      <td>0.0</td>\n",
       "      <td>0.0</td>\n",
       "      <td>1</td>\n",
       "    </tr>\n",
       "    <tr>\n",
       "      <td>2</td>\n",
       "      <td>3</td>\n",
       "      <td>99999999</td>\n",
       "      <td>1</td>\n",
       "      <td>738.0</td>\n",
       "      <td>10.0</td>\n",
       "      <td>Rent</td>\n",
       "      <td>40480.0</td>\n",
       "      <td>Medical Bills</td>\n",
       "      <td>573.47</td>\n",
       "      <td>32.7</td>\n",
       "      <td>9</td>\n",
       "      <td>1</td>\n",
       "      <td>3963</td>\n",
       "      <td>5669</td>\n",
       "      <td>1.0</td>\n",
       "      <td>0.0</td>\n",
       "      <td>1</td>\n",
       "    </tr>\n",
       "    <tr>\n",
       "      <td>3</td>\n",
       "      <td>4</td>\n",
       "      <td>11200</td>\n",
       "      <td>1</td>\n",
       "      <td>738.0</td>\n",
       "      <td>4.0</td>\n",
       "      <td>Rent</td>\n",
       "      <td>53965.0</td>\n",
       "      <td>Debt Consolidation</td>\n",
       "      <td>1358.11</td>\n",
       "      <td>15.8</td>\n",
       "      <td>8</td>\n",
       "      <td>1</td>\n",
       "      <td>11782</td>\n",
       "      <td>25951</td>\n",
       "      <td>1.0</td>\n",
       "      <td>0.0</td>\n",
       "      <td>1</td>\n",
       "    </tr>\n",
       "    <tr>\n",
       "      <td>4</td>\n",
       "      <td>5</td>\n",
       "      <td>3608</td>\n",
       "      <td>1</td>\n",
       "      <td>731.0</td>\n",
       "      <td>0.0</td>\n",
       "      <td>Home Mortgage</td>\n",
       "      <td>47709.0</td>\n",
       "      <td>Home Improvements</td>\n",
       "      <td>339.93</td>\n",
       "      <td>16.1</td>\n",
       "      <td>6</td>\n",
       "      <td>0</td>\n",
       "      <td>22909</td>\n",
       "      <td>25568</td>\n",
       "      <td>0.0</td>\n",
       "      <td>0.0</td>\n",
       "      <td>1</td>\n",
       "    </tr>\n",
       "  </tbody>\n",
       "</table>\n",
       "</div>"
      ],
      "text/plain": [
       "   Loan.ID  Current.Loan.Amount  Term  Credit.Score  Years.in.current.job  \\\n",
       "0        0                17879     1         739.0                   6.0   \n",
       "1        1             99999999     0         619.0                   6.0   \n",
       "2        3             99999999     1         738.0                  10.0   \n",
       "3        4                11200     1         738.0                   4.0   \n",
       "4        5                 3608     1         731.0                   0.0   \n",
       "\n",
       "  Home.Ownership  Annual.Income             Purpose  Monthly.Debt  \\\n",
       "0  Home Mortgage        95357.0  Debt Consolidation       1509.82   \n",
       "1           Rent        54406.0  Debt Consolidation       1065.45   \n",
       "2           Rent        40480.0       Medical Bills        573.47   \n",
       "3           Rent        53965.0  Debt Consolidation       1358.11   \n",
       "4  Home Mortgage        47709.0   Home Improvements        339.93   \n",
       "\n",
       "   Years.of.Credit.History  Number.of.Open.Accounts  \\\n",
       "0                     34.4                       26   \n",
       "1                     12.7                        8   \n",
       "2                     32.7                        9   \n",
       "3                     15.8                        8   \n",
       "4                     16.1                        6   \n",
       "\n",
       "   Number.of.Credit.Problems  Current.Credit.Balance  Maximum.Open.Credit  \\\n",
       "0                          0                   23986                40313   \n",
       "1                          0                   22938                31250   \n",
       "2                          1                    3963                 5669   \n",
       "3                          1                   11782                25951   \n",
       "4                          0                   22909                25568   \n",
       "\n",
       "   Bankruptcies  Tax.Liens  Loan.Status  \n",
       "0           0.0        0.0            1  \n",
       "1           0.0        0.0            1  \n",
       "2           1.0        0.0            1  \n",
       "3           1.0        0.0            1  \n",
       "4           0.0        0.0            1  "
      ]
     },
     "execution_count": 17,
     "metadata": {},
     "output_type": "execute_result"
    }
   ],
   "source": [
    "train.head()"
   ]
  },
  {
   "cell_type": "code",
   "execution_count": 18,
   "metadata": {},
   "outputs": [
    {
     "data": {
      "text/plain": [
       "<matplotlib.axes._subplots.AxesSubplot at 0x1a2d5caf448>"
      ]
     },
     "execution_count": 18,
     "metadata": {},
     "output_type": "execute_result"
    },
    {
     "data": {
      "image/png": "[encoded data removed]",
      "text/plain": [
       "<Figure size 432x288 with 1 Axes>"
      ]
     },
     "metadata": {},
     "output_type": "display_data"
    }
   ],
   "source": [
    "sns.heatmap(train.isnull(),cbar = False, cmap = 'viridis')"
   ]
  },
  {
   "cell_type": "code",
   "execution_count": 19,
   "metadata": {},
   "outputs": [
    {
     "data": {
      "text/plain": [
       "Home Mortgage    29447\n",
       "Rent             25737\n",
       "Own Home          5516\n",
       "HaveMortgage       104\n",
       "Name: Home.Ownership, dtype: int64"
      ]
     },
     "execution_count": 19,
     "metadata": {},
     "output_type": "execute_result"
    }
   ],
   "source": [
    "train['Home.Ownership'].value_counts()"
   ]
  },
  {
   "cell_type": "code",
   "execution_count": 20,
   "metadata": {},
   "outputs": [],
   "source": [
    "train['Home.Ownership'] = train['Home.Ownership'].map({'Home Mortgage':int('0'),'Rent':int('1'),'Own Home':int('2'),'HaveMortgage':int('3')})"
   ]
  },
  {
   "cell_type": "code",
   "execution_count": 21,
   "metadata": {},
   "outputs": [
    {
     "data": {
      "text/plain": [
       "0    29447\n",
       "1    25737\n",
       "2     5516\n",
       "3      104\n",
       "Name: Home.Ownership, dtype: int64"
      ]
     },
     "execution_count": 21,
     "metadata": {},
     "output_type": "execute_result"
    }
   ],
   "source": [
    "train['Home.Ownership'].value_counts()"
   ]
  },
  {
   "cell_type": "code",
   "execution_count": 22,
   "metadata": {},
   "outputs": [
    {
     "data": {
      "text/plain": [
       "Debt Consolidation      47888\n",
       "other                    3653\n",
       "Home Improvements        3535\n",
       "Other                    1975\n",
       "Business Loan             910\n",
       "Buy a Car                 765\n",
       "Medical Bills             695\n",
       "Buy House                 420\n",
       "Take a Trip               296\n",
       "major_purchase            213\n",
       "small_business            170\n",
       "moving                     83\n",
       "Educational Expenses       70\n",
       "vacation                   65\n",
       "wedding                    64\n",
       "renewable_energy            2\n",
       "Name: Purpose, dtype: int64"
      ]
     },
     "execution_count": 22,
     "metadata": {},
     "output_type": "execute_result"
    }
   ],
   "source": [
    "train['Purpose'].value_counts()"
   ]
  },
  {
   "cell_type": "code",
   "execution_count": 23,
   "metadata": {},
   "outputs": [],
   "source": [
    "train['Purpose'] = train['Purpose'].map({'Debt Consolidation': int('0'),'other':int('1'),'Home Improvements':int('2'),'Other':int('1'),'Business Loan':int('3'),'Buy a Car':int('4'),'Medical Bills':int('5'),'Buy House':int('6'),'Take a Trip':int('7'),'major_purchase':int('8'),'small_business':int('9'),'moving':int('10'),'Educational Expenses':int('11'),'vacation':int('12'),'wedding':int('13'),'renewable_energy':int('14')})"
   ]
  },
  {
   "cell_type": "code",
   "execution_count": 24,
   "metadata": {},
   "outputs": [
    {
     "data": {
      "text/plain": [
       "0     47888\n",
       "1      5628\n",
       "2      3535\n",
       "3       910\n",
       "4       765\n",
       "5       695\n",
       "6       420\n",
       "7       296\n",
       "8       213\n",
       "9       170\n",
       "10       83\n",
       "11       70\n",
       "12       65\n",
       "13       64\n",
       "14        2\n",
       "Name: Purpose, dtype: int64"
      ]
     },
     "execution_count": 24,
     "metadata": {},
     "output_type": "execute_result"
    }
   ],
   "source": [
    "train['Purpose'].value_counts()"
   ]
  },
  {
   "cell_type": "code",
   "execution_count": 25,
   "metadata": {},
   "outputs": [
    {
     "name": "stdout",
     "output_type": "stream",
     "text": [
      "<class 'pandas.core.frame.DataFrame'>\n",
      "RangeIndex: 60804 entries, 0 to 60803\n",
      "Data columns (total 17 columns):\n",
      "Loan.ID                      60804 non-null int64\n",
      "Current.Loan.Amount          60804 non-null int64\n",
      "Term                         60804 non-null int64\n",
      "Credit.Score                 48575 non-null float64\n",
      "Years.in.current.job         58275 non-null float64\n",
      "Home.Ownership               60804 non-null int64\n",
      "Annual.Income                48575 non-null float64\n",
      "Purpose                      60804 non-null int64\n",
      "Monthly.Debt                 60804 non-null float64\n",
      "Years.of.Credit.History      60804 non-null float64\n",
      "Number.of.Open.Accounts      60804 non-null int64\n",
      "Number.of.Credit.Problems    60804 non-null int64\n",
      "Current.Credit.Balance       60804 non-null int64\n",
      "Maximum.Open.Credit          60804 non-null int64\n",
      "Bankruptcies                 60677 non-null float64\n",
      "Tax.Liens                    60802 non-null float64\n",
      "Loan.Status                  60804 non-null int64\n",
      "dtypes: float64(7), int64(10)\n",
      "memory usage: 7.9 MB\n"
     ]
    }
   ],
   "source": [
    "train.info()"
   ]
  },
  {
   "cell_type": "code",
   "execution_count": 26,
   "metadata": {},
   "outputs": [],
   "source": [
    "train['Credit.Score'].fillna(train['Credit.Score'].mode()[0], inplace=True)"
   ]
  },
  {
   "cell_type": "code",
   "execution_count": 27,
   "metadata": {},
   "outputs": [
    {
     "name": "stdout",
     "output_type": "stream",
     "text": [
      "<class 'pandas.core.frame.DataFrame'>\n",
      "RangeIndex: 60804 entries, 0 to 60803\n",
      "Data columns (total 17 columns):\n",
      "Loan.ID                      60804 non-null int64\n",
      "Current.Loan.Amount          60804 non-null int64\n",
      "Term                         60804 non-null int64\n",
      "Credit.Score                 60804 non-null float64\n",
      "Years.in.current.job         58275 non-null float64\n",
      "Home.Ownership               60804 non-null int64\n",
      "Annual.Income                48575 non-null float64\n",
      "Purpose                      60804 non-null int64\n",
      "Monthly.Debt                 60804 non-null float64\n",
      "Years.of.Credit.History      60804 non-null float64\n",
      "Number.of.Open.Accounts      60804 non-null int64\n",
      "Number.of.Credit.Problems    60804 non-null int64\n",
      "Current.Credit.Balance       60804 non-null int64\n",
      "Maximum.Open.Credit          60804 non-null int64\n",
      "Bankruptcies                 60677 non-null float64\n",
      "Tax.Liens                    60802 non-null float64\n",
      "Loan.Status                  60804 non-null int64\n",
      "dtypes: float64(7), int64(10)\n",
      "memory usage: 7.9 MB\n"
     ]
    }
   ],
   "source": [
    "train.info()"
   ]
  },
  {
   "cell_type": "code",
   "execution_count": 28,
   "metadata": {},
   "outputs": [
    {
     "data": {
      "text/plain": [
       "51025.0    13\n",
       "59802.0    11\n",
       "49995.0    11\n",
       "70028.0    11\n",
       "60030.0    11\n",
       "60822.0    11\n",
       "50240.0    10\n",
       "61380.0    10\n",
       "59580.0    10\n",
       "58596.0    10\n",
       "60198.0    10\n",
       "60348.0    10\n",
       "59334.0    10\n",
       "60684.0    10\n",
       "48960.0    10\n",
       "60666.0    10\n",
       "61188.0    10\n",
       "58560.0    10\n",
       "60000.0    10\n",
       "60792.0    10\n",
       "59280.0    10\n",
       "49410.0     9\n",
       "68551.0     9\n",
       "60048.0     9\n",
       "48920.0     9\n",
       "Name: Annual.Income, dtype: int64"
      ]
     },
     "execution_count": 28,
     "metadata": {},
     "output_type": "execute_result"
    }
   ],
   "source": [
    "g =  train['Annual.Income'].value_counts()\n",
    "g.head(25)"
   ]
  },
  {
   "cell_type": "code",
   "execution_count": 29,
   "metadata": {},
   "outputs": [],
   "source": [
    "train['Annual.Income'].fillna(train['Annual.Income'].mode()[0], inplace=True)"
   ]
  },
  {
   "cell_type": "code",
   "execution_count": 30,
   "metadata": {},
   "outputs": [
    {
     "name": "stdout",
     "output_type": "stream",
     "text": [
      "<class 'pandas.core.frame.DataFrame'>\n",
      "RangeIndex: 60804 entries, 0 to 60803\n",
      "Data columns (total 17 columns):\n",
      "Loan.ID                      60804 non-null int64\n",
      "Current.Loan.Amount          60804 non-null int64\n",
      "Term                         60804 non-null int64\n",
      "Credit.Score                 60804 non-null float64\n",
      "Years.in.current.job         58275 non-null float64\n",
      "Home.Ownership               60804 non-null int64\n",
      "Annual.Income                60804 non-null float64\n",
      "Purpose                      60804 non-null int64\n",
      "Monthly.Debt                 60804 non-null float64\n",
      "Years.of.Credit.History      60804 non-null float64\n",
      "Number.of.Open.Accounts      60804 non-null int64\n",
      "Number.of.Credit.Problems    60804 non-null int64\n",
      "Current.Credit.Balance       60804 non-null int64\n",
      "Maximum.Open.Credit          60804 non-null int64\n",
      "Bankruptcies                 60677 non-null float64\n",
      "Tax.Liens                    60802 non-null float64\n",
      "Loan.Status                  60804 non-null int64\n",
      "dtypes: float64(7), int64(10)\n",
      "memory usage: 7.9 MB\n"
     ]
    }
   ],
   "source": [
    "train.info()"
   ]
  },
  {
   "cell_type": "code",
   "execution_count": 31,
   "metadata": {},
   "outputs": [],
   "source": [
    "train['Years.in.current.job'].fillna(train['Years.in.current.job'].mode()[0], inplace=True)"
   ]
  },
  {
   "cell_type": "code",
   "execution_count": 32,
   "metadata": {},
   "outputs": [],
   "source": [
    "train['Bankruptcies'].fillna(train['Bankruptcies'].mode()[0], inplace=True)"
   ]
  },
  {
   "cell_type": "code",
   "execution_count": 33,
   "metadata": {},
   "outputs": [],
   "source": [
    "train['Tax.Liens'].fillna(train['Tax.Liens'].mode()[0], inplace=True)"
   ]
  },
  {
   "cell_type": "code",
   "execution_count": 34,
   "metadata": {},
   "outputs": [
    {
     "name": "stdout",
     "output_type": "stream",
     "text": [
      "<class 'pandas.core.frame.DataFrame'>\n",
      "RangeIndex: 60804 entries, 0 to 60803\n",
      "Data columns (total 17 columns):\n",
      "Loan.ID                      60804 non-null int64\n",
      "Current.Loan.Amount          60804 non-null int64\n",
      "Term                         60804 non-null int64\n",
      "Credit.Score                 60804 non-null float64\n",
      "Years.in.current.job         60804 non-null float64\n",
      "Home.Ownership               60804 non-null int64\n",
      "Annual.Income                60804 non-null float64\n",
      "Purpose                      60804 non-null int64\n",
      "Monthly.Debt                 60804 non-null float64\n",
      "Years.of.Credit.History      60804 non-null float64\n",
      "Number.of.Open.Accounts      60804 non-null int64\n",
      "Number.of.Credit.Problems    60804 non-null int64\n",
      "Current.Credit.Balance       60804 non-null int64\n",
      "Maximum.Open.Credit          60804 non-null int64\n",
      "Bankruptcies                 60804 non-null float64\n",
      "Tax.Liens                    60804 non-null float64\n",
      "Loan.Status                  60804 non-null int64\n",
      "dtypes: float64(7), int64(10)\n",
      "memory usage: 7.9 MB\n"
     ]
    }
   ],
   "source": [
    "train.info()"
   ]
  },
  {
   "cell_type": "code",
   "execution_count": 35,
   "metadata": {},
   "outputs": [
    {
     "name": "stdout",
     "output_type": "stream",
     "text": [
      "<class 'pandas.core.frame.DataFrame'>\n",
      "RangeIndex: 60804 entries, 0 to 60803\n",
      "Data columns (total 17 columns):\n",
      "Loan.ID                      60804 non-null int64\n",
      "Current.Loan.Amount          60804 non-null int64\n",
      "Term                         60804 non-null int64\n",
      "Credit.Score                 60804 non-null float64\n",
      "Years.in.current.job         60804 non-null float64\n",
      "Home.Ownership               60804 non-null int64\n",
      "Annual.Income                60804 non-null float64\n",
      "Purpose                      60804 non-null int64\n",
      "Monthly.Debt                 60804 non-null float64\n",
      "Years.of.Credit.History      60804 non-null float64\n",
      "Number.of.Open.Accounts      60804 non-null int64\n",
      "Number.of.Credit.Problems    60804 non-null int64\n",
      "Current.Credit.Balance       60804 non-null int64\n",
      "Maximum.Open.Credit          60804 non-null int64\n",
      "Bankruptcies                 60804 non-null float64\n",
      "Tax.Liens                    60804 non-null float64\n",
      "Loan.Status                  60804 non-null int64\n",
      "dtypes: float64(7), int64(10)\n",
      "memory usage: 7.9 MB\n"
     ]
    }
   ],
   "source": [
    "train.info()"
   ]
  },
  {
   "cell_type": "code",
   "execution_count": 36,
   "metadata": {},
   "outputs": [
    {
     "name": "stdout",
     "output_type": "stream",
     "text": [
      "<class 'pandas.core.frame.DataFrame'>\n",
      "RangeIndex: 23386 entries, 0 to 23385\n",
      "Data columns (total 18 columns):\n",
      "Loan.ID                         23386 non-null int64\n",
      "Current.Loan.Amount             23386 non-null int64\n",
      "Term                            23386 non-null object\n",
      "Credit.Score                    18585 non-null float64\n",
      "Years.in.current.job            22370 non-null object\n",
      "Home.Ownership                  23386 non-null object\n",
      "Annual.Income                   18585 non-null float64\n",
      "Purpose                         23386 non-null object\n",
      "Monthly.Debt                    23386 non-null float64\n",
      "Years.of.Credit.History         23386 non-null float64\n",
      "Months.since.last.delinquent    10858 non-null float64\n",
      "Number.of.Open.Accounts         23386 non-null int64\n",
      "Number.of.Credit.Problems       23386 non-null int64\n",
      "Current.Credit.Balance          23386 non-null int64\n",
      "Maximum.Open.Credit             23386 non-null int64\n",
      "Bankruptcies                    23332 non-null float64\n",
      "Tax.Liens                       23378 non-null float64\n",
      "Loan.Status                     0 non-null float64\n",
      "dtypes: float64(8), int64(6), object(4)\n",
      "memory usage: 3.2+ MB\n"
     ]
    }
   ],
   "source": [
    "test.info()"
   ]
  },
  {
   "cell_type": "code",
   "execution_count": 37,
   "metadata": {},
   "outputs": [],
   "source": [
    "test.drop('Months.since.last.delinquent',axis=1,inplace=True)"
   ]
  },
  {
   "cell_type": "code",
   "execution_count": 38,
   "metadata": {},
   "outputs": [],
   "source": [
    "test['Term'] = test['Term'].map({'Short Term':int('1'), 'Long Term':int('0')})"
   ]
  },
  {
   "cell_type": "code",
   "execution_count": 39,
   "metadata": {},
   "outputs": [
    {
     "data": {
      "text/plain": [
       "10+ years            7220\n",
       "2 years              2142\n",
       "3 years              1894\n",
       "less than  1 year    1857\n",
       "5 years              1622\n",
       "1 year               1540\n",
       "4 years              1459\n",
       "7 years              1356\n",
       "6 years              1298\n",
       "8 years              1069\n",
       "9 years               913\n",
       "Name: Years.in.current.job, dtype: int64"
      ]
     },
     "execution_count": 39,
     "metadata": {},
     "output_type": "execute_result"
    }
   ],
   "source": [
    "test['Years.in.current.job'].value_counts()"
   ]
  },
  {
   "cell_type": "code",
   "execution_count": 40,
   "metadata": {},
   "outputs": [],
   "source": [
    "test['Years.in.current.job'] = test['Years.in.current.job'].map({'10+ years':int('0'),'1 year':int('1'),'2 years':int('2'),'3 years':int('3'),'4 years':int('4'),'5 years':int('5'),'6 years':int('6'),'7 years':int('7'),'8 years':int('8'),'9 years':int('9'),'less than  1 year':int('10')})"
   ]
  },
  {
   "cell_type": "code",
   "execution_count": 41,
   "metadata": {},
   "outputs": [
    {
     "data": {
      "text/plain": [
       "Home Mortgage    11364\n",
       "Rent              9827\n",
       "Own Home          2141\n",
       "HaveMortgage        54\n",
       "Name: Home.Ownership, dtype: int64"
      ]
     },
     "execution_count": 41,
     "metadata": {},
     "output_type": "execute_result"
    }
   ],
   "source": [
    "test['Home.Ownership'].value_counts()"
   ]
  },
  {
   "cell_type": "code",
   "execution_count": 42,
   "metadata": {},
   "outputs": [],
   "source": [
    "test['Home.Ownership'] = test['Home.Ownership'].map({'Home Mortgage':int('0'),'Rent':int('1'),'Own Home':int('2'),'HaveMortgage':int('3')})"
   ]
  },
  {
   "cell_type": "code",
   "execution_count": 43,
   "metadata": {},
   "outputs": [
    {
     "data": {
      "text/plain": [
       "0    11364\n",
       "1     9827\n",
       "2     2141\n",
       "3       54\n",
       "Name: Home.Ownership, dtype: int64"
      ]
     },
     "execution_count": 43,
     "metadata": {},
     "output_type": "execute_result"
    }
   ],
   "source": [
    "test['Home.Ownership'].value_counts()"
   ]
  },
  {
   "cell_type": "code",
   "execution_count": 44,
   "metadata": {},
   "outputs": [
    {
     "data": {
      "text/plain": [
       "Debt Consolidation      18429\n",
       "Home Improvements        1368\n",
       "other                    1318\n",
       "Other                     741\n",
       "Business Loan             393\n",
       "Buy a Car                 316\n",
       "Medical Bills             260\n",
       "Take a Trip               149\n",
       "Buy House                 134\n",
       "major_purchase            105\n",
       "small_business             68\n",
       "moving                     35\n",
       "wedding                    30\n",
       "vacation                   21\n",
       "Educational Expenses       16\n",
       "renewable_energy            3\n",
       "Name: Purpose, dtype: int64"
      ]
     },
     "execution_count": 44,
     "metadata": {},
     "output_type": "execute_result"
    }
   ],
   "source": [
    "test['Purpose'].value_counts()"
   ]
  },
  {
   "cell_type": "code",
   "execution_count": 45,
   "metadata": {},
   "outputs": [],
   "source": [
    "test['Purpose'] = test['Purpose'].map({'Debt Consolidation': int('0'),'other':int('1'),'Home Improvements':int('2'),'Other':int('1'),'Business Loan':int('3'),'Buy a Car':int('4'),'Medical Bills':int('5'),'Buy House':int('6'),'Take a Trip':int('7'),'major_purchase':int('8'),'small_business':int('9'),'moving':int('10'),'Educational Expenses':int('11'),'vacation':int('12'),'wedding':int('13'),'renewable_energy':int('14')})"
   ]
  },
  {
   "cell_type": "code",
   "execution_count": 46,
   "metadata": {},
   "outputs": [
    {
     "data": {
      "text/plain": [
       "0     18429\n",
       "1      2059\n",
       "2      1368\n",
       "3       393\n",
       "4       316\n",
       "5       260\n",
       "7       149\n",
       "6       134\n",
       "8       105\n",
       "9        68\n",
       "10       35\n",
       "13       30\n",
       "12       21\n",
       "11       16\n",
       "14        3\n",
       "Name: Purpose, dtype: int64"
      ]
     },
     "execution_count": 46,
     "metadata": {},
     "output_type": "execute_result"
    }
   ],
   "source": [
    "test['Purpose'].value_counts()"
   ]
  },
  {
   "cell_type": "code",
   "execution_count": 47,
   "metadata": {},
   "outputs": [
    {
     "name": "stdout",
     "output_type": "stream",
     "text": [
      "<class 'pandas.core.frame.DataFrame'>\n",
      "RangeIndex: 23386 entries, 0 to 23385\n",
      "Data columns (total 17 columns):\n",
      "Loan.ID                      23386 non-null int64\n",
      "Current.Loan.Amount          23386 non-null int64\n",
      "Term                         23386 non-null int64\n",
      "Credit.Score                 18585 non-null float64\n",
      "Years.in.current.job         22370 non-null float64\n",
      "Home.Ownership               23386 non-null int64\n",
      "Annual.Income                18585 non-null float64\n",
      "Purpose                      23386 non-null int64\n",
      "Monthly.Debt                 23386 non-null float64\n",
      "Years.of.Credit.History      23386 non-null float64\n",
      "Number.of.Open.Accounts      23386 non-null int64\n",
      "Number.of.Credit.Problems    23386 non-null int64\n",
      "Current.Credit.Balance       23386 non-null int64\n",
      "Maximum.Open.Credit          23386 non-null int64\n",
      "Bankruptcies                 23332 non-null float64\n",
      "Tax.Liens                    23378 non-null float64\n",
      "Loan.Status                  0 non-null float64\n",
      "dtypes: float64(8), int64(9)\n",
      "memory usage: 3.0 MB\n"
     ]
    }
   ],
   "source": [
    "test.info()"
   ]
  },
  {
   "cell_type": "code",
   "execution_count": 48,
   "metadata": {},
   "outputs": [],
   "source": [
    "test['Credit.Score'].fillna(test['Credit.Score'].mode()[0], inplace=True)"
   ]
  },
  {
   "cell_type": "code",
   "execution_count": 49,
   "metadata": {},
   "outputs": [],
   "source": [
    "test['Annual.Income'].fillna(test['Annual.Income'].mode()[0], inplace=True)"
   ]
  },
  {
   "cell_type": "code",
   "execution_count": 50,
   "metadata": {},
   "outputs": [],
   "source": [
    "test['Years.in.current.job'].fillna(test['Years.in.current.job'].mode()[0], inplace=True)"
   ]
  },
  {
   "cell_type": "code",
   "execution_count": 51,
   "metadata": {},
   "outputs": [],
   "source": [
    "test['Bankruptcies'].fillna(test['Bankruptcies'].mode()[0], inplace=True)"
   ]
  },
  {
   "cell_type": "code",
   "execution_count": 52,
   "metadata": {},
   "outputs": [],
   "source": [
    "test['Tax.Liens'].fillna(test['Tax.Liens'].mode()[0], inplace=True)"
   ]
  },
  {
   "cell_type": "code",
   "execution_count": 53,
   "metadata": {},
   "outputs": [
    {
     "name": "stdout",
     "output_type": "stream",
     "text": [
      "<class 'pandas.core.frame.DataFrame'>\n",
      "RangeIndex: 23386 entries, 0 to 23385\n",
      "Data columns (total 17 columns):\n",
      "Loan.ID                      23386 non-null int64\n",
      "Current.Loan.Amount          23386 non-null int64\n",
      "Term                         23386 non-null int64\n",
      "Credit.Score                 23386 non-null float64\n",
      "Years.in.current.job         23386 non-null float64\n",
      "Home.Ownership               23386 non-null int64\n",
      "Annual.Income                23386 non-null float64\n",
      "Purpose                      23386 non-null int64\n",
      "Monthly.Debt                 23386 non-null float64\n",
      "Years.of.Credit.History      23386 non-null float64\n",
      "Number.of.Open.Accounts      23386 non-null int64\n",
      "Number.of.Credit.Problems    23386 non-null int64\n",
      "Current.Credit.Balance       23386 non-null int64\n",
      "Maximum.Open.Credit          23386 non-null int64\n",
      "Bankruptcies                 23386 non-null float64\n",
      "Tax.Liens                    23386 non-null float64\n",
      "Loan.Status                  0 non-null float64\n",
      "dtypes: float64(8), int64(9)\n",
      "memory usage: 3.0 MB\n"
     ]
    }
   ],
   "source": [
    "test.info()"
   ]
  },
  {
   "cell_type": "code",
   "execution_count": 54,
   "metadata": {},
   "outputs": [],
   "source": [
    "train = train.drop('Loan.ID', axis = 1) "
   ]
  },
  {
   "cell_type": "code",
   "execution_count": 55,
   "metadata": {},
   "outputs": [
    {
     "name": "stdout",
     "output_type": "stream",
     "text": [
      "<class 'pandas.core.frame.DataFrame'>\n",
      "RangeIndex: 23386 entries, 0 to 23385\n",
      "Data columns (total 15 columns):\n",
      "Current.Loan.Amount          23386 non-null int64\n",
      "Term                         23386 non-null int64\n",
      "Credit.Score                 23386 non-null float64\n",
      "Years.in.current.job         23386 non-null float64\n",
      "Home.Ownership               23386 non-null int64\n",
      "Annual.Income                23386 non-null float64\n",
      "Purpose                      23386 non-null int64\n",
      "Monthly.Debt                 23386 non-null float64\n",
      "Years.of.Credit.History      23386 non-null float64\n",
      "Number.of.Open.Accounts      23386 non-null int64\n",
      "Number.of.Credit.Problems    23386 non-null int64\n",
      "Current.Credit.Balance       23386 non-null int64\n",
      "Maximum.Open.Credit          23386 non-null int64\n",
      "Bankruptcies                 23386 non-null float64\n",
      "Tax.Liens                    23386 non-null float64\n",
      "dtypes: float64(7), int64(8)\n",
      "memory usage: 2.7 MB\n"
     ]
    }
   ],
   "source": [
    "test = test.drop('Loan.ID', axis = 1) \n",
    "test = test.drop('Loan.Status', axis = 1) \n",
    "test.info()"
   ]
  },
  {
   "cell_type": "code",
   "execution_count": 56,
   "metadata": {},
   "outputs": [],
   "source": [
    "X= train.drop('Loan.Status', axis = 1)\n",
    "y = train['Loan.Status']"
   ]
  },
  {
   "cell_type": "code",
   "execution_count": 57,
   "metadata": {},
   "outputs": [
    {
     "name": "stdout",
     "output_type": "stream",
     "text": [
      "<class 'pandas.core.frame.DataFrame'>\n",
      "RangeIndex: 23386 entries, 0 to 23385\n",
      "Data columns (total 15 columns):\n",
      "Current.Loan.Amount          23386 non-null int64\n",
      "Term                         23386 non-null int64\n",
      "Credit.Score                 23386 non-null float64\n",
      "Years.in.current.job         23386 non-null float64\n",
      "Home.Ownership               23386 non-null int64\n",
      "Annual.Income                23386 non-null float64\n",
      "Purpose                      23386 non-null int64\n",
      "Monthly.Debt                 23386 non-null float64\n",
      "Years.of.Credit.History      23386 non-null float64\n",
      "Number.of.Open.Accounts      23386 non-null int64\n",
      "Number.of.Credit.Problems    23386 non-null int64\n",
      "Current.Credit.Balance       23386 non-null int64\n",
      "Maximum.Open.Credit          23386 non-null int64\n",
      "Bankruptcies                 23386 non-null float64\n",
      "Tax.Liens                    23386 non-null float64\n",
      "dtypes: float64(7), int64(8)\n",
      "memory usage: 2.7 MB\n"
     ]
    }
   ],
   "source": [
    "X = pd.get_dummies(X)\n",
    "train = pd.get_dummies(train)\n",
    "test = pd.get_dummies(test)\n",
    "test.info()"
   ]
  },
  {
   "cell_type": "code",
   "execution_count": 58,
   "metadata": {},
   "outputs": [],
   "source": [
    "from sklearn.model_selection import train_test_split"
   ]
  },
  {
   "cell_type": "code",
   "execution_count": 59,
   "metadata": {},
   "outputs": [],
   "source": [
    "X= train.drop('Loan.Status', axis = 1)\n",
    "y = train['Loan.Status']"
   ]
  },
  {
   "cell_type": "code",
   "execution_count": 60,
   "metadata": {},
   "outputs": [],
   "source": [
    "X_train, X_test, y_train, y_test = train_test_split(X, y, test_size=0.30)"
   ]
  },
  {
   "cell_type": "code",
   "execution_count": 61,
   "metadata": {},
   "outputs": [],
   "source": [
    "from sklearn.metrics import classification_report,confusion_matrix"
   ]
  },
  {
   "cell_type": "code",
   "execution_count": 62,
   "metadata": {},
   "outputs": [
    {
     "data": {
      "text/plain": [
       "RandomForestClassifier(bootstrap=True, class_weight=None, criterion='gini',\n",
       "                       max_depth=None, max_features='auto', max_leaf_nodes=None,\n",
       "                       min_impurity_decrease=0.0, min_impurity_split=None,\n",
       "                       min_samples_leaf=1, min_samples_split=2,\n",
       "                       min_weight_fraction_leaf=0.0, n_estimators=100,\n",
       "                       n_jobs=None, oob_score=False, random_state=None,\n",
       "                       verbose=0, warm_start=False)"
      ]
     },
     "execution_count": 62,
     "metadata": {},
     "output_type": "execute_result"
    }
   ],
   "source": [
    "from sklearn.ensemble import RandomForestClassifier\n",
    "rfc = RandomForestClassifier(n_estimators=100)\n",
    "rfc.fit(X_train, y_train)"
   ]
  },
  {
   "cell_type": "code",
   "execution_count": 63,
   "metadata": {},
   "outputs": [],
   "source": [
    "rfc_pred = rfc.predict(X_test)"
   ]
  },
  {
   "cell_type": "code",
   "execution_count": 64,
   "metadata": {},
   "outputs": [
    {
     "name": "stdout",
     "output_type": "stream",
     "text": [
      "[[ 1015  3313]\n",
      " [  179 13735]]\n"
     ]
    }
   ],
   "source": [
    "print(confusion_matrix(y_test,rfc_pred))"
   ]
  },
  {
   "cell_type": "code",
   "execution_count": 65,
   "metadata": {},
   "outputs": [
    {
     "name": "stdout",
     "output_type": "stream",
     "text": [
      "              precision    recall  f1-score   support\n",
      "\n",
      "           0       0.85      0.23      0.37      4328\n",
      "           1       0.81      0.99      0.89     13914\n",
      "\n",
      "    accuracy                           0.81     18242\n",
      "   macro avg       0.83      0.61      0.63     18242\n",
      "weighted avg       0.82      0.81      0.76     18242\n",
      "\n"
     ]
    }
   ],
   "source": [
    "print(classification_report(y_test,rfc_pred))"
   ]
  },
  {
   "cell_type": "code",
   "execution_count": 66,
   "metadata": {},
   "outputs": [],
   "source": [
    "rfc_predtest = rfc.predict(test)"
   ]
  },
  {
   "cell_type": "code",
   "execution_count": 67,
   "metadata": {},
   "outputs": [],
   "source": [
    "submission=pd.read_csv(\"C:/Users/Welcome/Downloads/data crunch/SubmissionSample.csv\")\n"
   ]
  },
  {
   "cell_type": "code",
   "execution_count": 68,
   "metadata": {},
   "outputs": [],
   "source": [
    "submission['Loan.Status']=rfc_predtest \n",
    "submission['Loan.ID']=test_original['Loan.ID']"
   ]
  },
  {
   "cell_type": "code",
   "execution_count": null,
   "metadata": {},
   "outputs": [],
   "source": []
  },
  {
   "cell_type": "code",
   "execution_count": 69,
   "metadata": {},
   "outputs": [],
   "source": [
    "pd.DataFrame(submission, columns=['Loan.ID','Loan.Status']).to_csv('datacrunch_Ragavendar13.csv',index = False)"
   ]
  },
  {
   "cell_type": "code",
   "execution_count": null,
   "metadata": {},
   "outputs": [],
   "source": []
  }
 ],
 "metadata": {
  "kernelspec": {
   "display_name": "Python 3",
   "language": "python",
   "name": "python3"
  },
  "language_info": {
   "codemirror_mode": {
    "name": "ipython",
    "version": 3
   },
   "file_extension": ".py",
   "mimetype": "text/x-python",
   "name": "python",
   "nbconvert_exporter": "python",
   "pygments_lexer": "ipython3",
   "version": "3.7.4"
  }
 },
 "nbformat": 4,
 "nbformat_minor": 2
}
